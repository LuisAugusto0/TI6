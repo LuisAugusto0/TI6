{
 "cells": [
  {
   "cell_type": "markdown",
   "metadata": {
    "id": "17sr0UrmfkuP"
   },
   "source": [
    "# Setup Google Drive\n",
    "\n",
    "Mount google drive and make it the actual directory (unnecessary for local projects)"
   ]
  },
  {
   "cell_type": "code",
   "execution_count": 1,
   "metadata": {
    "colab": {
     "base_uri": "https://localhost:8080/"
    },
    "id": "nY5zZ5EEfQje",
    "outputId": "95fa79a1-f02d-47b2-b09f-046e269cf63e"
   },
   "outputs": [],
   "source": [
    "# import os\n",
    "# cwd= os.getcwd()\n",
    "# print (cwd)"
   ]
  },
  {
   "cell_type": "code",
   "execution_count": 2,
   "metadata": {
    "colab": {
     "base_uri": "https://localhost:8080/"
    },
    "id": "ZkKvSj2zTSxh",
    "outputId": "11937b95-485b-41d5-da7f-6d8b787b53ca"
   },
   "outputs": [],
   "source": [
    "# from google.colab import drive\n",
    "# drive.mount('/drive')\n",
    "# import os\n",
    "# os.chdir('/drive/MyDrive/TI6')\n",
    "# cwd= os.getcwd()\n",
    "# print (cwd)"
   ]
  },
  {
   "cell_type": "markdown",
   "metadata": {
    "id": "7mGmQbAO5pQb"
   },
   "source": [
    "# Setup Yolo\n",
    "\n",
    "Clone GitHub [repository](https://github.com/ultralytics/yolov5), install [dependencies](https://github.com/ultralytics/yolov5/blob/master/requirements.txt) and check PyTorch and GPU."
   ]
  },
  {
   "cell_type": "code",
   "execution_count": 3,
   "metadata": {
    "colab": {
     "base_uri": "https://localhost:8080/"
    },
    "id": "wbvMlHd_QwMG",
    "outputId": "cac00096-a5c4-4685-b68f-7fa106922699"
   },
   "outputs": [
    {
     "name": "stderr",
     "output_type": "stream",
     "text": [
      "YOLOv5 🚀 v7.0-436-ge715aea6 Python-3.12.3 torch-2.8.0+cu126 CUDA:0 (NVIDIA GeForce GTX 1650, 3897MiB)\n"
     ]
    },
    {
     "name": "stdout",
     "output_type": "stream",
     "text": [
      "Setup complete ✅ (8 CPUs, 23.3 GB RAM, 46.6/116.5 GB disk)\n",
      "/home/luis/Documents/TI6/yolov5\n"
     ]
    }
   ],
   "source": [
    "import os\n",
    "\n",
    "if(not os.path.exists('yolov5')):\n",
    "  !git clone https://github.com/ultralytics/yolov5 # clone\n",
    "%cd yolov5\n",
    "%pip install -qr requirements.txt comet_ml  # install\n",
    "\n",
    "import torch\n",
    "import utils\n",
    "display = utils.notebook_init()  # checks\n",
    "\n",
    "import os\n",
    "cwd= os.getcwd()\n",
    "print (cwd)"
   ]
  },
  {
   "cell_type": "markdown",
   "metadata": {
    "id": "ZY2VXXXu74w5"
   },
   "source": [
    "# 1. Train\n",
    "\n",
    "Train a YOLOv5s model on the [CSDD](https://github.com/Kerio99/CSDD) dataset with `--data coco128.yaml`, starting from pretrained `--weights yolov5s.pt`.\n",
    "\n",
    "- **Training Results** are saved to `runs/train/` with incrementing run directories."
   ]
  },
  {
   "cell_type": "code",
   "execution_count": 4,
   "metadata": {
    "colab": {
     "base_uri": "https://localhost:8080/"
    },
    "id": "i3oKtE4g-aNn",
    "outputId": "c11e9872-92c9-4c05-d67b-8f4d051eb8d5"
   },
   "outputs": [
    {
     "name": "stdout",
     "output_type": "stream",
     "text": [
      "Note: you may need to restart the kernel to use updated packages.\n"
     ]
    },
    {
     "name": "stderr",
     "output_type": "stream",
     "text": [
      "\u001b[1;38;5;214mCOMET WARNING:\u001b[0m comet_ml.init() is deprecated and will be removed soon. Please use comet_ml.login()\n"
     ]
    }
   ],
   "source": [
    "#@title Select YOLOv5 🚀 logger {run: 'auto'}\n",
    "logger = 'Comet' #@param ['Comet', 'ClearML', 'TensorBoard']\n",
    "\n",
    "if logger == 'Comet':\n",
    "  %pip install -q comet_ml\n",
    "  import comet_ml; comet_ml.init()\n",
    "elif logger == 'ClearML':\n",
    "  %pip install -q clearml\n",
    "  import clearml; clearml.browser_login()\n",
    "elif logger == 'TensorBoard':\n",
    "  %load_ext tensorboard\n",
    "  %tensorboard --logdir runs/train"
   ]
  },
  {
   "cell_type": "markdown",
   "metadata": {
    "id": "ziNqFP3D20vs"
   },
   "source": [
    "## Train YOLOv5"
   ]
  },
  {
   "cell_type": "code",
   "execution_count": 5,
   "metadata": {},
   "outputs": [],
   "source": [
    "image_size = 1536 #@param {type:\"integer\"}\n",
    "batch_size = 6 #@param {type:\"integer\"}\n",
    "# 8 funciona no completo com 2048px\n",
    "epochs = 30 #@param {type:\"integer\"}\n",
    "yaml = 'CSDD_lite.yaml' #@param {type:\"string\"}"
   ]
  },
  {
   "cell_type": "code",
   "execution_count": 6,
   "metadata": {
    "id": "9UNvanP5PXks"
   },
   "outputs": [],
   "source": [
    "remove_previous_tests = False #@param {type:\"boolean\"}\n",
    "# Remover diretórios de execuções anteriores de treinamento e validação\n",
    "if remove_previous_tests:\n",
    "  import shutil\n",
    "  for folder in ['runs/train', 'runs/val', 'runs/detect']:\n",
    "      if os.path.exists(folder):\n",
    "          shutil.rmtree(folder)"
   ]
  },
  {
   "cell_type": "code",
   "execution_count": null,
   "metadata": {
    "colab": {
     "base_uri": "https://localhost:8080/"
    },
    "id": "ManeDBec4Azm",
    "outputId": "1c3fa44d-9bf9-4f84-fa08-6cb94e7b62f5"
   },
   "outputs": [
    {
     "name": "stdout",
     "output_type": "stream",
     "text": [
      "\u001b[34m\u001b[1mtrain: \u001b[0mweights=yolov5n.pt, cfg=, data=CSDD_lite.yaml, hyp=data/hyps/hyp.scratch-low.yaml, epochs=30, batch_size=6, imgsz=1536, rect=False, resume=False, nosave=False, noval=False, noautoanchor=False, noplots=False, evolve=None, evolve_population=data/hyps, resume_evolve=None, bucket=, cache=ram, image_weights=False, device=, multi_scale=False, single_cls=False, optimizer=SGD, sync_bn=False, workers=8, project=runs/train, name=exp, exist_ok=False, quad=False, cos_lr=False, label_smoothing=0.0, patience=100, freeze=[0], save_period=-1, seed=0, local_rank=-1, entity=None, upload_dataset=False, bbox_interval=-1, artifact_alias=latest, ndjson_console=False, ndjson_file=False\n",
      "\u001b[34m\u001b[1mgithub: \u001b[0mskipping check (offline), for updates see https://github.com/ultralytics/yolov5\n",
      "YOLOv5 🚀 v7.0-436-ge715aea6 Python-3.12.3 torch-2.8.0+cu126 CUDA:0 (NVIDIA GeForce GTX 1650, 3897MiB)\n",
      "\n",
      "\u001b[34m\u001b[1mhyperparameters: \u001b[0mlr0=0.01, lrf=0.01, momentum=0.937, weight_decay=0.0005, warmup_epochs=3.0, warmup_momentum=0.8, warmup_bias_lr=0.1, box=0.05, cls=0.5, cls_pw=1.0, obj=1.0, obj_pw=1.0, iou_t=0.2, anchor_t=4.0, fl_gamma=0.0, hsv_h=0.015, hsv_s=0.7, hsv_v=0.4, degrees=0.0, translate=0.1, scale=0.5, shear=0.0, perspective=0.0, flipud=0.0, fliplr=0.5, mosaic=1.0, mixup=0.0, copy_paste=0.0\n",
      "\u001b[34m\u001b[1mTensorBoard: \u001b[0mStart with 'tensorboard --logdir runs/train', view at http://localhost:6006/\n",
      "\u001b[1;38;5;39mCOMET INFO:\u001b[0m Experiment is live on comet.com \u001b[38;5;39mhttps://www.comet.com/lu-s-augusto/yolov5/24d3c54412894ae68989e96f26d75d40\u001b[0m\n",
      "\n",
      "Downloading https://github.com/ultralytics/yolov5/releases/download/v7.0/yolov5n.pt to yolov5n.pt...\n",
      "100%|██████████████████████████████████████| 3.87M/3.87M [00:00<00:00, 9.99MB/s]\n",
      "\n",
      "Overriding model.yaml nc=80 with nc=3\n",
      "\n",
      "                 from  n    params  module                                  arguments                     \n",
      "  0                -1  1      1760  models.common.Conv                      [3, 16, 6, 2, 2]              \n",
      "  1                -1  1      4672  models.common.Conv                      [16, 32, 3, 2]                \n",
      "  2                -1  1      4800  models.common.C3                        [32, 32, 1]                   \n",
      "  3                -1  1     18560  models.common.Conv                      [32, 64, 3, 2]                \n",
      "  4                -1  2     29184  models.common.C3                        [64, 64, 2]                   \n",
      "  5                -1  1     73984  models.common.Conv                      [64, 128, 3, 2]               \n",
      "  6                -1  3    156928  models.common.C3                        [128, 128, 3]                 \n",
      "  7                -1  1    295424  models.common.Conv                      [128, 256, 3, 2]              \n",
      "  8                -1  1    296448  models.common.C3                        [256, 256, 1]                 \n",
      "  9                -1  1    164608  models.common.SPPF                      [256, 256, 5]                 \n",
      " 10                -1  1     33024  models.common.Conv                      [256, 128, 1, 1]              \n",
      " 11                -1  1         0  torch.nn.modules.upsampling.Upsample    [None, 2, 'nearest']          \n",
      " 12           [-1, 6]  1         0  models.common.Concat                    [1]                           \n",
      " 13                -1  1     90880  models.common.C3                        [256, 128, 1, False]          \n",
      " 14                -1  1      8320  models.common.Conv                      [128, 64, 1, 1]               \n",
      " 15                -1  1         0  torch.nn.modules.upsampling.Upsample    [None, 2, 'nearest']          \n",
      " 16           [-1, 4]  1         0  models.common.Concat                    [1]                           \n",
      " 17                -1  1     22912  models.common.C3                        [128, 64, 1, False]           \n",
      " 18                -1  1     36992  models.common.Conv                      [64, 64, 3, 2]                \n",
      " 19          [-1, 14]  1         0  models.common.Concat                    [1]                           \n",
      " 20                -1  1     74496  models.common.C3                        [128, 128, 1, False]          \n",
      " 21                -1  1    147712  models.common.Conv                      [128, 128, 3, 2]              \n",
      " 22          [-1, 10]  1         0  models.common.Concat                    [1]                           \n",
      " 23                -1  1    296448  models.common.C3                        [256, 256, 1, False]          \n",
      " 24      [17, 20, 23]  1     10824  models.yolo.Detect                      [3, [[10, 13, 16, 30, 33, 23], [30, 61, 62, 45, 59, 119], [116, 90, 156, 198, 373, 326]], [64, 128, 256]]\n",
      "Model summary: 214 layers, 1767976 parameters, 1767976 gradients, 4.2 GFLOPs\n",
      "\n",
      "Transferred 343/349 items from yolov5n.pt\n",
      "/home/luis/Documents/TI6/yolov5/models/common.py:906: FutureWarning: `torch.cuda.amp.autocast(args...)` is deprecated. Please use `torch.amp.autocast('cuda', args...)` instead.\n",
      "  with amp.autocast(autocast):\n",
      "/home/luis/Documents/TI6/yolov5/models/common.py:906: FutureWarning: `torch.cuda.amp.autocast(args...)` is deprecated. Please use `torch.amp.autocast('cuda', args...)` instead.\n",
      "  with amp.autocast(autocast):\n",
      "\u001b[34m\u001b[1mAMP: \u001b[0mchecks passed ✅\n",
      "\u001b[34m\u001b[1moptimizer:\u001b[0m SGD(lr=0.01) with parameter groups 57 weight(decay=0.0), 60 weight(decay=0.000515625), 60 bias\n",
      "\u001b[34m\u001b[1mtrain: \u001b[0mScanning /home/luis/Documents/TI6/datasets/CSDD_lite/labels/train2017.cac\u001b[0m\n",
      "\u001b[34m\u001b[1mtrain: \u001b[0mCaching images (0.8GB ram): 100%|██████████| 128/128 [00:03<00:00, 36.12i\u001b[0m\n",
      "\u001b[34m\u001b[1mval: \u001b[0mScanning /home/luis/Documents/TI6/datasets/CSDD_lite/labels/val2017.cache..\u001b[0m\n",
      "\u001b[34m\u001b[1mval: \u001b[0mCaching images (0.8GB ram): 100%|██████████| 128/128 [00:05<00:00, 22.48it/\u001b[0m\n",
      "\n",
      "\u001b[34m\u001b[1mAutoAnchor: \u001b[0m3.57 anchors/target, 0.995 Best Possible Recall (BPR). Current anchors are a good fit to dataset ✅\n",
      "Plotting labels to runs/train/exp/labels.jpg... \n",
      "/home/luis/Documents/TI6/yolov5/train.py:357: FutureWarning: `torch.cuda.amp.GradScaler(args...)` is deprecated. Please use `torch.amp.GradScaler('cuda', args...)` instead.\n",
      "  scaler = torch.cuda.amp.GradScaler(enabled=amp)\n",
      "Image sizes 1536 train, 1536 val\n",
      "Using 6 dataloader workers\n",
      "Logging results to \u001b[1mruns/train/exp\u001b[0m\n",
      "Starting training for 30 epochs...\n",
      "\n",
      "      Epoch    GPU_mem   box_loss   obj_loss   cls_loss  Instances       Size\n",
      "  0%|          | 0/22 [00:00<?, ?it/s]/home/luis/Documents/TI6/yolov5/train.py:414: FutureWarning: `torch.cuda.amp.autocast(args...)` is deprecated. Please use `torch.amp.autocast('cuda', args...)` instead.\n",
      "  with torch.cuda.amp.autocast(amp):\n",
      "       0/29      3.72G        nan        nan        nan        131       1536:  /home/luis/Documents/TI6/yolov5/train.py:414: FutureWarning: `torch.cuda.amp.autocast(args...)` is deprecated. Please use `torch.amp.autocast('cuda', args...)` instead.\n",
      "  with torch.cuda.amp.autocast(amp):\n",
      "       0/29      3.72G        nan        nan        nan         94       1536:  /home/luis/Documents/TI6/yolov5/train.py:414: FutureWarning: `torch.cuda.amp.autocast(args...)` is deprecated. Please use `torch.amp.autocast('cuda', args...)` instead.\n",
      "  with torch.cuda.amp.autocast(amp):\n",
      "       0/29      3.72G        nan        nan        nan         65       1536:  /home/luis/Documents/TI6/yolov5/train.py:414: FutureWarning: `torch.cuda.amp.autocast(args...)` is deprecated. Please use `torch.amp.autocast('cuda', args...)` instead.\n",
      "  with torch.cuda.amp.autocast(amp):\n",
      "       0/29      3.72G        nan        nan        nan         55       1536:  /home/luis/Documents/TI6/yolov5/train.py:414: FutureWarning: `torch.cuda.amp.autocast(args...)` is deprecated. Please use `torch.amp.autocast('cuda', args...)` instead.\n",
      "  with torch.cuda.amp.autocast(amp):\n",
      "       0/29      3.72G        nan        nan        nan        102       1536:  /home/luis/Documents/TI6/yolov5/train.py:414: FutureWarning: `torch.cuda.amp.autocast(args...)` is deprecated. Please use `torch.amp.autocast('cuda', args...)` instead.\n",
      "  with torch.cuda.amp.autocast(amp):\n",
      "       0/29      3.72G        nan        nan        nan         78       1536:  /home/luis/Documents/TI6/yolov5/train.py:414: FutureWarning: `torch.cuda.amp.autocast(args...)` is deprecated. Please use `torch.amp.autocast('cuda', args...)` instead.\n",
      "  with torch.cuda.amp.autocast(amp):\n",
      "       0/29      3.72G        nan        nan        nan         43       1536:  /home/luis/Documents/TI6/yolov5/train.py:414: FutureWarning: `torch.cuda.amp.autocast(args...)` is deprecated. Please use `torch.amp.autocast('cuda', args...)` instead.\n",
      "  with torch.cuda.amp.autocast(amp):\n",
      "       0/29      3.73G        nan        nan        nan         59       1536:  /home/luis/Documents/TI6/yolov5/train.py:414: FutureWarning: `torch.cuda.amp.autocast(args...)` is deprecated. Please use `torch.amp.autocast('cuda', args...)` instead.\n",
      "  with torch.cuda.amp.autocast(amp):\n",
      "       0/29      3.73G        nan        nan        nan         54       1536:  /home/luis/Documents/TI6/yolov5/train.py:414: FutureWarning: `torch.cuda.amp.autocast(args...)` is deprecated. Please use `torch.amp.autocast('cuda', args...)` instead.\n",
      "  with torch.cuda.amp.autocast(amp):\n",
      "       0/29      3.73G        nan        nan        nan         38       1536:  /home/luis/Documents/TI6/yolov5/train.py:414: FutureWarning: `torch.cuda.amp.autocast(args...)` is deprecated. Please use `torch.amp.autocast('cuda', args...)` instead.\n",
      "  with torch.cuda.amp.autocast(amp):\n",
      "       0/29      3.73G        nan        nan        nan         51       1536:  /home/luis/Documents/TI6/yolov5/train.py:414: FutureWarning: `torch.cuda.amp.autocast(args...)` is deprecated. Please use `torch.amp.autocast('cuda', args...)` instead.\n",
      "  with torch.cuda.amp.autocast(amp):\n",
      "       0/29      3.73G        nan        nan        nan        117       1536:  /home/luis/Documents/TI6/yolov5/train.py:414: FutureWarning: `torch.cuda.amp.autocast(args...)` is deprecated. Please use `torch.amp.autocast('cuda', args...)` instead.\n",
      "  with torch.cuda.amp.autocast(amp):\n",
      "       0/29      3.73G        nan        nan        nan         80       1536:  /home/luis/Documents/TI6/yolov5/train.py:414: FutureWarning: `torch.cuda.amp.autocast(args...)` is deprecated. Please use `torch.amp.autocast('cuda', args...)` instead.\n",
      "  with torch.cuda.amp.autocast(amp):\n",
      "       0/29      3.73G        nan        nan        nan         72       1536:  /home/luis/Documents/TI6/yolov5/train.py:414: FutureWarning: `torch.cuda.amp.autocast(args...)` is deprecated. Please use `torch.amp.autocast('cuda', args...)` instead.\n",
      "  with torch.cuda.amp.autocast(amp):\n",
      "       0/29      3.73G        nan        nan        nan         63       1536:  /home/luis/Documents/TI6/yolov5/train.py:414: FutureWarning: `torch.cuda.amp.autocast(args...)` is deprecated. Please use `torch.amp.autocast('cuda', args...)` instead.\n",
      "  with torch.cuda.amp.autocast(amp):\n",
      "       0/29      3.73G        nan        nan        nan         28       1536:  /home/luis/Documents/TI6/yolov5/train.py:414: FutureWarning: `torch.cuda.amp.autocast(args...)` is deprecated. Please use `torch.amp.autocast('cuda', args...)` instead.\n",
      "  with torch.cuda.amp.autocast(amp):\n",
      "       0/29      3.73G        nan        nan        nan         56       1536:  /home/luis/Documents/TI6/yolov5/train.py:414: FutureWarning: `torch.cuda.amp.autocast(args...)` is deprecated. Please use `torch.amp.autocast('cuda', args...)` instead.\n",
      "  with torch.cuda.amp.autocast(amp):\n",
      "       0/29      3.73G        nan        nan        nan        111       1536:  /home/luis/Documents/TI6/yolov5/train.py:414: FutureWarning: `torch.cuda.amp.autocast(args...)` is deprecated. Please use `torch.amp.autocast('cuda', args...)` instead.\n",
      "  with torch.cuda.amp.autocast(amp):\n",
      "       0/29      3.73G        nan        nan        nan         79       1536:  /home/luis/Documents/TI6/yolov5/train.py:414: FutureWarning: `torch.cuda.amp.autocast(args...)` is deprecated. Please use `torch.amp.autocast('cuda', args...)` instead.\n",
      "  with torch.cuda.amp.autocast(amp):\n",
      "       0/29      3.73G        nan        nan        nan         67       1536:  /home/luis/Documents/TI6/yolov5/train.py:414: FutureWarning: `torch.cuda.amp.autocast(args...)` is deprecated. Please use `torch.amp.autocast('cuda', args...)` instead.\n",
      "  with torch.cuda.amp.autocast(amp):\n",
      "       0/29      3.73G        nan        nan        nan         83       1536:  /home/luis/Documents/TI6/yolov5/train.py:414: FutureWarning: `torch.cuda.amp.autocast(args...)` is deprecated. Please use `torch.amp.autocast('cuda', args...)` instead.\n",
      "  with torch.cuda.amp.autocast(amp):\n",
      "       0/29      3.73G        nan        nan        nan         26       1536: 1\n",
      "                 Class     Images  Instances          P          R      mAP50   \n",
      "                   all        128       1955          0          0          0          0\n",
      "\n",
      "      Epoch    GPU_mem   box_loss   obj_loss   cls_loss  Instances       Size\n",
      "  0%|          | 0/22 [00:00<?, ?it/s]/home/luis/Documents/TI6/yolov5/train.py:414: FutureWarning: `torch.cuda.amp.autocast(args...)` is deprecated. Please use `torch.amp.autocast('cuda', args...)` instead.\n",
      "  with torch.cuda.amp.autocast(amp):\n",
      "       1/29      3.44G        nan        nan        nan         73       1536:  /home/luis/Documents/TI6/yolov5/train.py:414: FutureWarning: `torch.cuda.amp.autocast(args...)` is deprecated. Please use `torch.amp.autocast('cuda', args...)` instead.\n",
      "  with torch.cuda.amp.autocast(amp):\n",
      "       1/29      3.45G        nan        nan        nan         45       1536:  /home/luis/Documents/TI6/yolov5/train.py:414: FutureWarning: `torch.cuda.amp.autocast(args...)` is deprecated. Please use `torch.amp.autocast('cuda', args...)` instead.\n",
      "  with torch.cuda.amp.autocast(amp):\n",
      "       1/29      3.45G        nan        nan        nan         99       1536:  /home/luis/Documents/TI6/yolov5/train.py:414: FutureWarning: `torch.cuda.amp.autocast(args...)` is deprecated. Please use `torch.amp.autocast('cuda', args...)` instead.\n",
      "  with torch.cuda.amp.autocast(amp):\n",
      "       1/29      3.45G        nan        nan        nan        104       1536:  /home/luis/Documents/TI6/yolov5/train.py:414: FutureWarning: `torch.cuda.amp.autocast(args...)` is deprecated. Please use `torch.amp.autocast('cuda', args...)` instead.\n",
      "  with torch.cuda.amp.autocast(amp):\n",
      "       1/29      3.45G        nan        nan        nan         35       1536:  /home/luis/Documents/TI6/yolov5/train.py:414: FutureWarning: `torch.cuda.amp.autocast(args...)` is deprecated. Please use `torch.amp.autocast('cuda', args...)` instead.\n",
      "  with torch.cuda.amp.autocast(amp):\n",
      "       1/29      3.45G        nan        nan        nan         70       1536:  /home/luis/Documents/TI6/yolov5/train.py:414: FutureWarning: `torch.cuda.amp.autocast(args...)` is deprecated. Please use `torch.amp.autocast('cuda', args...)` instead.\n",
      "  with torch.cuda.amp.autocast(amp):\n",
      "       1/29      3.45G        nan        nan        nan         47       1536:  /home/luis/Documents/TI6/yolov5/train.py:414: FutureWarning: `torch.cuda.amp.autocast(args...)` is deprecated. Please use `torch.amp.autocast('cuda', args...)` instead.\n",
      "  with torch.cuda.amp.autocast(amp):\n",
      "       1/29      3.45G        nan        nan        nan         77       1536:  /home/luis/Documents/TI6/yolov5/train.py:414: FutureWarning: `torch.cuda.amp.autocast(args...)` is deprecated. Please use `torch.amp.autocast('cuda', args...)` instead.\n",
      "  with torch.cuda.amp.autocast(amp):\n",
      "       1/29      3.45G        nan        nan        nan         45       1536:  /home/luis/Documents/TI6/yolov5/train.py:414: FutureWarning: `torch.cuda.amp.autocast(args...)` is deprecated. Please use `torch.amp.autocast('cuda', args...)` instead.\n",
      "  with torch.cuda.amp.autocast(amp):\n",
      "       1/29      3.45G        nan        nan        nan         43       1536:  /home/luis/Documents/TI6/yolov5/train.py:414: FutureWarning: `torch.cuda.amp.autocast(args...)` is deprecated. Please use `torch.amp.autocast('cuda', args...)` instead.\n",
      "  with torch.cuda.amp.autocast(amp):\n",
      "       1/29      3.45G        nan        nan        nan         48       1536:  /home/luis/Documents/TI6/yolov5/train.py:414: FutureWarning: `torch.cuda.amp.autocast(args...)` is deprecated. Please use `torch.amp.autocast('cuda', args...)` instead.\n",
      "  with torch.cuda.amp.autocast(amp):\n",
      "       1/29      3.45G        nan        nan        nan         59       1536:  /home/luis/Documents/TI6/yolov5/train.py:414: FutureWarning: `torch.cuda.amp.autocast(args...)` is deprecated. Please use `torch.amp.autocast('cuda', args...)` instead.\n",
      "  with torch.cuda.amp.autocast(amp):\n",
      "       1/29      3.45G        nan        nan        nan         70       1536:  /home/luis/Documents/TI6/yolov5/train.py:414: FutureWarning: `torch.cuda.amp.autocast(args...)` is deprecated. Please use `torch.amp.autocast('cuda', args...)` instead.\n",
      "  with torch.cuda.amp.autocast(amp):\n"
     ]
    }
   ],
   "source": [
    "# Train YOLOv5s on CSDD\n",
    "!python train.py --img {image_size} --batch {batch_size} --epochs {epochs} --data {yaml} --weights yolov5n.pt --cache"
   ]
  },
  {
   "cell_type": "code",
   "execution_count": null,
   "metadata": {
    "colab": {
     "base_uri": "https://localhost:8080/"
    },
    "id": "1NcFxRcFdJ_O",
    "outputId": "ad0cf2cb-745e-4c6b-afea-ff8f84b0a1a5"
   },
   "outputs": [],
   "source": [
    "import os\n",
    "import glob\n",
    "\n",
    "# Find the latest run directory\n",
    "list_of_files = glob.glob('runs/train/exp*') # Use glob to find directories starting with 'exp'\n",
    "if list_of_files:\n",
    "    latest_file = max(list_of_files, key=os.path.getctime)\n",
    "\n",
    "    # Construct the base new directory name\n",
    "    base_new_dir_name = f'runs/train/{yaml.split(\".\")[0]}B{batch_size}_E{epochs}_I{image_size}'\n",
    "    new_dir_name = base_new_dir_name\n",
    "    counter = 1\n",
    "\n",
    "    # Check if the directory name already exists and append a counter if it does\n",
    "    while os.path.exists(new_dir_name):\n",
    "        new_dir_name = f'{base_new_dir_name}-{counter}'\n",
    "        counter += 1\n",
    "\n",
    "    # Rename the directory\n",
    "    os.rename(latest_file, new_dir_name)\n",
    "    print(f\"Renomeado '{latest_file}' para '{new_dir_name}'\")\n",
    "else:\n",
    "    print(\"Nenhuma pasta de treinamento 'exp' encontrada para renomear.\")"
   ]
  },
  {
   "cell_type": "markdown",
   "metadata": {
    "id": "0eq1SMWl6Sfn"
   },
   "source": [
    "# 2. Detect (test)\n",
    "Validate a model's accuracy on the [COCO](https://cocodataset.org/#home) dataset's `val` or `test` splits. Models are downloaded automatically from the [latest YOLOv5 release](https://github.com/ultralytics/yolov5/releases). To show results by class use the `--verbose` flag."
   ]
  },
  {
   "cell_type": "markdown",
   "metadata": {
    "id": "508c87a5"
   },
   "source": [
    "Este código realiza os seguintes passos:\n",
    "\n",
    "1.  **Lista as pastas de treinamento:** Verifica o diretório `runs/train/` e lista todas as subpastas encontradas. Cada subpasta representa um treinamento realizado.\n",
    "2.  **Pede para o usuário escolher:** Imprime as pastas disponíveis com um número correspondente e solicita que o usuário digite o número da pasta que contém os pesos do modelo que ele deseja usar para a detecção.\n",
    "3.  **Define o caminho dos pesos:** Com base na escolha do usuário, constrói o caminho completo para o arquivo `best.pt` dentro da pasta de treinamento selecionada e armazena esse caminho na variável `selected_weights_path`.\n",
    "4.  **Executa a detecção:** Se um caminho de peso foi selecionado com sucesso, ele executa o script `detect.py` usando os pesos especificados (`--weights {selected_weights_path}`), define o tamanho da imagem para 640 (`--img 640`), um limiar de confiança de 0.25 (`--conf 0.25`) e especifica que as imagens para detecção estão no diretório `data/images` (`--source data/images`). Se nenhum peso foi selecionado (por exemplo, se não havia pastas de treinamento), ele imprime uma mensagem informando ao usuário para executar a célula anterior."
   ]
  },
  {
   "cell_type": "code",
   "execution_count": null,
   "metadata": {
    "colab": {
     "base_uri": "https://localhost:8080/"
    },
    "id": "972b9188",
    "outputId": "828b0704-dc5c-4cff-86d6-4fef65b2b4ed"
   },
   "outputs": [],
   "source": [
    "import os\n",
    "\n",
    "train_runs_path = 'runs/train/'\n",
    "selected_weights_path = None # Initialize variable to store the selected path\n",
    "\n",
    "if os.path.exists(train_runs_path):\n",
    "  run_dirs = [d for d in os.listdir(train_runs_path) if os.path.isdir(os.path.join(train_runs_path, d))]\n",
    "  if run_dirs:\n",
    "    print(\"Pastas de treinamento disponíveis:\")\n",
    "    for i, run_dir in enumerate(run_dirs):\n",
    "      print(f\"{i}: {run_dir}\")\n",
    "\n",
    "    while True:\n",
    "      try:\n",
    "        choice = int(input(\"Digite o número da pasta de treinamento que deseja usar: \"))\n",
    "        if 0 <= choice < len(run_dirs):\n",
    "          selected_run_dir = run_dirs[choice]\n",
    "          selected_weights_path = os.path.join(train_runs_path, selected_run_dir, 'weights', 'best.pt')\n",
    "          print(f\"Você selecionou a pasta: {selected_run_dir}\")\n",
    "          print(f\"Caminho para os pesos selecionados: {selected_weights_path}\")\n",
    "          break\n",
    "        else:\n",
    "          print(\"Escolha inválida. Por favor, digite um número da lista.\")\n",
    "      except ValueError:\n",
    "        print(\"Entrada inválida. Por favor, digite um número.\")\n",
    "  else:\n",
    "    print(f\"Nenhuma pasta de treinamento encontrada em {train_runs_path}. Certifique-se de ter executado o treinamento.\")\n",
    "else:\n",
    "  print(f\"A pasta {train_runs_path} não foi encontrada. Certifique-se de ter executado o treinamento.\")"
   ]
  },
  {
   "cell_type": "code",
   "execution_count": null,
   "metadata": {
    "colab": {
     "base_uri": "https://localhost:8080/"
    },
    "id": "2d0a5d13",
    "outputId": "cf07b5cd-90f6-45c1-b3a0-3c72afcb7cec"
   },
   "outputs": [],
   "source": [
    "if selected_weights_path:\n",
    "  !python detect.py --weights {selected_weights_path} --img {image_size} --conf 0.25 --source ../datasets/CSDD_det/images/test2017/\n",
    "else:\n",
    "  print(\"Nenhum caminho de peso selecionado. Por favor, execute a célula acima para selecionar um peso.\")"
   ]
  },
  {
   "cell_type": "code",
   "execution_count": null,
   "metadata": {
    "id": "lADH24Tj2ahp"
   },
   "outputs": [],
   "source": [
    "#!python detect.py --weights yolov5s.pt --img 640 --conf 0.25 --source data/images\n",
    "#!python val.py --weights yolov5s.pt --data coco.yaml --img 640 --half"
   ]
  }
 ],
 "metadata": {
  "accelerator": "GPU",
  "colab": {
   "gpuType": "T4",
   "provenance": []
  },
  "kernelspec": {
   "display_name": "Python 3 (ipykernel)",
   "language": "python",
   "name": "python3"
  },
  "language_info": {
   "codemirror_mode": {
    "name": "ipython",
    "version": 3
   },
   "file_extension": ".py",
   "mimetype": "text/x-python",
   "name": "python",
   "nbconvert_exporter": "python",
   "pygments_lexer": "ipython3",
   "version": "3.12.3"
  }
 },
 "nbformat": 4,
 "nbformat_minor": 4
}
